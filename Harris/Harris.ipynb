{
 "cells": [
  {
   "cell_type": "code",
   "execution_count": 2,
   "metadata": {},
   "outputs": [],
   "source": [
    "import cv2\n",
    "import numpy as np\n",
    " \n",
    "# 读入图像\n",
    "filename = 'ex0603.jpg'\n",
    "img = cv2.imread(filename)\n",
    " \n",
    "# 转为灰度图\n",
    "gray_img = cv2.cvtColor(img, cv2.COLOR_BGR2GRAY)\n",
    " \n",
    "# 归一化\n",
    "gray_img = np.float32(gray_img)\n",
    " \n",
    "#对图像执行harris角点检测\n",
    "Harris_detector = cv2.cornerHarris(gray_img, 2, 3, 0.04)\n",
    " \n",
    "#膨胀harris结果\n",
    "# dst = cv2.erode(Harris_detector, None)\n",
    "# dst = cv2.dilate(Harris_detector, None)\n",
    "\n",
    "# 设置阈值\n",
    "# thres = 0.012*Harris_detector.max()\n",
    "thres = 0.05*Harris_detector.max()\n",
    "\n",
    "# 将大于阈值的像素点标识\n",
    "img[Harris_detector > thres] = [0,235,0]\n",
    "\n",
    "# 放大图像\n",
    "r = 500.0 / img.shape[1]\n",
    "dim = (500, int(img.shape[0] * r))\n",
    "resized = cv2.resize(img,dim,interpolation = cv2.INTER_AREA) \n",
    "\n",
    "# 显示图像\n",
    "# cv2.line(img,(100,100),(200,200),(255,0,0),2,cv2.LINE_AA)\n",
    "cv2.imshow(\"image\",resized)\n",
    "cv2.waitKey()\n",
    "cv2.destroyAllWindows()"
   ]
  },
  {
   "cell_type": "code",
   "execution_count": 20,
   "metadata": {},
   "outputs": [
    {
     "data": {
      "text/plain": [
       "dtype('float32')"
      ]
     },
     "execution_count": 20,
     "metadata": {},
     "output_type": "execute_result"
    }
   ],
   "source": [
    "Harris_detector.dtype"
   ]
  },
  {
   "cell_type": "code",
   "execution_count": 6,
   "metadata": {},
   "outputs": [
    {
     "data": {
      "text/plain": [
       "(174, 198)"
      ]
     },
     "execution_count": 6,
     "metadata": {},
     "output_type": "execute_result"
    }
   ],
   "source": [
    "gray_img.shape"
   ]
  },
  {
   "cell_type": "code",
   "execution_count": 19,
   "metadata": {},
   "outputs": [
    {
     "data": {
      "text/plain": [
       "array([[ 3.8433945e+01,  3.8433945e+01,  4.5019531e+00, ...,\n",
       "         5.0140820e+02,  1.9929924e+03,  4.0085767e+02],\n",
       "       [ 3.8433945e+01,  3.8433945e+01,  4.5019531e+00, ...,\n",
       "         5.0140820e+02,  1.9929924e+03,  4.0085767e+02],\n",
       "       [ 5.5573204e+01,  5.5573204e+01,  2.5530823e+01, ...,\n",
       "         1.0610283e+03,  2.6989756e+03,  1.7283130e+02],\n",
       "       ...,\n",
       "       [ 5.0170703e+02,  5.0170703e+02,  4.9293320e+01, ...,\n",
       "         9.2106650e+03, -1.5302529e+03, -4.8200208e+02],\n",
       "       [-1.5040989e+07, -1.5040989e+07, -1.5127716e+07, ...,\n",
       "        -3.9806442e+06, -4.0581902e+06, -4.4378625e+06],\n",
       "       [-1.5020757e+07, -1.5020757e+07, -1.5261940e+07, ...,\n",
       "        -3.7895878e+06, -3.8577975e+06, -4.2636110e+06]], dtype=float32)"
      ]
     },
     "execution_count": 19,
     "metadata": {},
     "output_type": "execute_result"
    }
   ],
   "source": [
    "Harris_detector"
   ]
  }
 ],
 "metadata": {
  "kernelspec": {
   "display_name": "Python 3",
   "language": "python",
   "name": "python3"
  },
  "language_info": {
   "codemirror_mode": {
    "name": "ipython",
    "version": 3
   },
   "file_extension": ".py",
   "mimetype": "text/x-python",
   "name": "python",
   "nbconvert_exporter": "python",
   "pygments_lexer": "ipython3",
   "version": "3.7.1"
  }
 },
 "nbformat": 4,
 "nbformat_minor": 2
}
