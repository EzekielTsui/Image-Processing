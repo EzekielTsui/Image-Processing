{
 "cells": [
  {
   "cell_type": "code",
   "execution_count": 16,
   "metadata": {},
   "outputs": [],
   "source": [
    "def getMAD(s):\n",
    "    median = np.median(s)\n",
    "    # 这里的b为波动范围\n",
    "    b = 1.4826\n",
    "    mad = b * np.median(np.abs(s-median))\n",
    "\n",
    "    # 确定一个值，用来排除异常值范围\n",
    "    lower_limit = median - (3*mad)\n",
    "    upper_limit = median + (3*mad)\n",
    "\n",
    "    # print(mad, lower_limit, upper_limit)\n",
    "    return lower_limit, upper_limit"
   ]
  },
  {
   "cell_type": "code",
   "execution_count": 19,
   "metadata": {
    "scrolled": false
   },
   "outputs": [
    {
     "name": "stdout",
     "output_type": "stream",
     "text": [
      "0.29670596\n",
      "0.30543262\n",
      "0.28797933\n",
      "0.30543262\n",
      "0.28797933\n",
      "0.29670596\n",
      "0.28797933\n",
      "0.29670596\n",
      "0.29670596\n",
      "0.30543262\n",
      "0.29670596\n"
     ]
    },
    {
     "data": {
      "text/plain": [
       "True"
      ]
     },
     "execution_count": 19,
     "metadata": {},
     "output_type": "execute_result"
    }
   ],
   "source": [
    "import numpy as np\n",
    "import cv2\n",
    "import matplotlib.pyplot as plt\n",
    "\n",
    "img = cv2.imread('piao.png')\n",
    "\n",
    "# img = cv2.imread('pic.jpg')\n",
    "\n",
    "img_gray = cv2.cvtColor(img, cv2.COLOR_RGB2GRAY)\n",
    "edges = cv2.Canny(img_gray, 80,200,3)\n",
    "cv2.imshow('hi',edges)\n",
    "key = cv2.waitKey(0)\n",
    "if key == 27:\n",
    "    cv2.destroyAllWindows()\n",
    "\n",
    "lines = cv2.HoughLines(edges ,1,np.pi/360,153)\n",
    "for i in range(len(lines)):\n",
    "    for r,theta in lines[i]:\n",
    "        print(theta)\n",
    "        a = np.cos(theta)\n",
    "        b = np.sin(theta)\n",
    "        x0 = a*r\n",
    "        y0 = b*r\n",
    "        x1 = int(x0 + 500*(-b))\n",
    "        y1 = int(y0 + 1000*(a))\n",
    "        x2 = int(x0 - 1000*(-b))\n",
    "        y2 = int(y0 - 1000*(a))\n",
    "        cv2.line(img,(x1,y1),(x2,y2),(0,0,225),2)\n",
    "#         theta = theta +1;\n",
    "\n",
    "cv2.imwrite('hi.jpg',img)\n",
    "# cv2.imshow('he',img)"
   ]
  },
  {
   "cell_type": "code",
   "execution_count": 5,
   "metadata": {
    "scrolled": true
   },
   "outputs": [
    {
     "data": {
      "text/plain": [
       "array([[  0,   0,   0, ..., 255,   0,   0],\n",
       "       [  0,   0, 255, ..., 255,   0,   0],\n",
       "       [  0,   0, 255, ...,   0,   0, 255],\n",
       "       ...,\n",
       "       [  0,   0,   0, ...,   0,   0,   0],\n",
       "       [  0,   0,   0, ...,   0,   0,   0],\n",
       "       [  0,   0,   0, ...,   0,   0,   0]], dtype=uint8)"
      ]
     },
     "execution_count": 5,
     "metadata": {},
     "output_type": "execute_result"
    }
   ],
   "source": [
    "edges"
   ]
  },
  {
   "cell_type": "code",
   "execution_count": 6,
   "metadata": {
    "scrolled": false
   },
   "outputs": [
    {
     "data": {
      "text/plain": [
       "5"
      ]
     },
     "execution_count": 6,
     "metadata": {},
     "output_type": "execute_result"
    }
   ],
   "source": [
    "len(lines)"
   ]
  }
 ],
 "metadata": {
  "kernelspec": {
   "display_name": "Python 3",
   "language": "python",
   "name": "python3"
  },
  "language_info": {
   "codemirror_mode": {
    "name": "ipython",
    "version": 3
   },
   "file_extension": ".py",
   "mimetype": "text/x-python",
   "name": "python",
   "nbconvert_exporter": "python",
   "pygments_lexer": "ipython3",
   "version": "3.7.1"
  }
 },
 "nbformat": 4,
 "nbformat_minor": 2
}
